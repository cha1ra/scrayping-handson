{
 "cells": [
  {
   "cell_type": "code",
   "execution_count": 5,
   "metadata": {},
   "outputs": [
    {
     "name": "stdout",
     "output_type": "stream",
     "text": [
      "Requirement already satisfied: request in /anaconda3/lib/python3.6/site-packages (2018.11.20)\n",
      "Requirement already satisfied: post in /anaconda3/lib/python3.6/site-packages (from request) (2018.11.20)\n",
      "Requirement already satisfied: get in /anaconda3/lib/python3.6/site-packages (from request) (2018.11.19)\n",
      "Requirement already satisfied: setuptools in /anaconda3/lib/python3.6/site-packages (from request) (39.1.0)\n",
      "Requirement already satisfied: query-string in /anaconda3/lib/python3.6/site-packages (from get->request) (2018.11.20)\n",
      "Requirement already satisfied: public in /anaconda3/lib/python3.6/site-packages (from query-string->get->request) (2018.11.20)\n",
      "Requirement already satisfied: beautifulsoup4 in /anaconda3/lib/python3.6/site-packages (4.6.0)\n"
     ]
    }
   ],
   "source": [
    "!pip install request\n",
    "!pip install beautifulsoup4"
   ]
  },
  {
   "cell_type": "code",
   "execution_count": 6,
   "metadata": {},
   "outputs": [],
   "source": [
    "import requests\n",
    "from bs4 import BeautifulSoup"
   ]
  },
  {
   "cell_type": "code",
   "execution_count": 7,
   "metadata": {},
   "outputs": [],
   "source": [
    "r = requests.get('https://cha1ra.github.io/scrayping-handson/index.html')"
   ]
  },
  {
   "cell_type": "code",
   "execution_count": 8,
   "metadata": {},
   "outputs": [
    {
     "data": {
      "text/plain": [
       "<Response [200]>"
      ]
     },
     "execution_count": 8,
     "metadata": {},
     "output_type": "execute_result"
    }
   ],
   "source": [
    "r\n",
    "# r.text\n",
    "# r.url\n",
    "# r.encoding\n",
    "# r.content\n",
    "# r.status_code"
   ]
  },
  {
   "cell_type": "code",
   "execution_count": 11,
   "metadata": {},
   "outputs": [
    {
     "data": {
      "text/plain": [
       "<!DOCTYPE html>\n",
       "\n",
       "<html lang=\"ja\">\n",
       "<head>\n",
       "<meta charset=\"utf-8\"/>\n",
       "<meta content=\"width=device-width, initial-scale=1.0\" name=\"viewport\"/>\n",
       "<meta content=\"ie=edge\" http-equiv=\"X-UA-Compatible\"/>\n",
       "<title>Example Page</title>\n",
       "</head>\n",
       "<body>\n",
       "<h1>Example Page</h1>\n",
       "<p>This is an example page for hands-on.</p>\n",
       "<h2>attr Test</h2>\n",
       "<ul>\n",
       "<li><a href=\"https://twitter.com/\">Twitter</a></li>\n",
       "<li><a href=\"https://www.facebook.com/\">Facebook</a></li>\n",
       "<li><a href=\"https://www.instagram.com/\">Instagram</a></li>\n",
       "</ul>\n",
       "<h2>ID Test</h2>\n",
       "<p id=\"id-test\">id=\"id-test\" selected</p>\n",
       "<h2>class Test</h2>\n",
       "<ul>\n",
       "<li class=\"class-test\">class=\"class-test\" selected 001</li>\n",
       "<li class=\"class-test\">class=\"class-test\" selected 002</li>\n",
       "<li class=\"class-test\">class=\"class-test\" selected 003</li>\n",
       "</ul>\n",
       "<footer>@don-bu-rakko All Rights Reserved.</footer>\n",
       "</body>\n",
       "</html>"
      ]
     },
     "execution_count": 11,
     "metadata": {},
     "output_type": "execute_result"
    }
   ],
   "source": [
    "soup = BeautifulSoup(r.text, 'html.parser')\n",
    "soup"
   ]
  },
  {
   "cell_type": "code",
   "execution_count": 19,
   "metadata": {},
   "outputs": [
    {
     "data": {
      "text/plain": [
       "[<a href=\"https://twitter.com/\">Twitter</a>,\n",
       " <a href=\"https://www.facebook.com/\">Facebook</a>,\n",
       " <a href=\"https://www.instagram.com/\">Instagram</a>]"
      ]
     },
     "execution_count": 19,
     "metadata": {},
     "output_type": "execute_result"
    }
   ],
   "source": [
    "# soup.select('h2')\n",
    "# soup.select_one('h2')\n",
    "# soup.select('a[href=\"https://twitter.com/\"] ')\n",
    "# soup.select('#id-test')\n",
    "soup.select('li > a')"
   ]
  },
  {
   "cell_type": "code",
   "execution_count": 20,
   "metadata": {},
   "outputs": [
    {
     "name": "stdout",
     "output_type": "stream",
     "text": [
      "Twitter\n",
      "Facebook\n",
      "Instagram\n"
     ]
    }
   ],
   "source": [
    "for a in soup.select('li > a'):\n",
    "    print(a.string)"
   ]
  },
  {
   "cell_type": "code",
   "execution_count": 22,
   "metadata": {},
   "outputs": [
    {
     "name": "stdout",
     "output_type": "stream",
     "text": [
      "{'href': 'https://twitter.com/'}\n",
      "https://twitter.com/\n",
      "{'href': 'https://www.facebook.com/'}\n",
      "https://www.facebook.com/\n",
      "{'href': 'https://www.instagram.com/'}\n",
      "https://www.instagram.com/\n"
     ]
    }
   ],
   "source": [
    "for a in soup.select('li > a'):\n",
    "    print(a.attrs)\n",
    "    print(a['href'])"
   ]
  },
  {
   "cell_type": "code",
   "execution_count": 24,
   "metadata": {},
   "outputs": [
    {
     "name": "stdout",
     "output_type": "stream",
     "text": [
      "Requirement already satisfied: selenium in /anaconda3/lib/python3.6/site-packages (3.141.0)\r\n",
      "Requirement already satisfied: urllib3 in /anaconda3/lib/python3.6/site-packages (from selenium) (1.22)\r\n"
     ]
    }
   ],
   "source": [
    "!pip install selenium"
   ]
  },
  {
   "cell_type": "code",
   "execution_count": null,
   "metadata": {},
   "outputs": [],
   "source": []
  }
 ],
 "metadata": {
  "kernelspec": {
   "display_name": "Python 3",
   "language": "python",
   "name": "python3"
  },
  "language_info": {
   "codemirror_mode": {
    "name": "ipython",
    "version": 3
   },
   "file_extension": ".py",
   "mimetype": "text/x-python",
   "name": "python",
   "nbconvert_exporter": "python",
   "pygments_lexer": "ipython3",
   "version": "3.6.5"
  }
 },
 "nbformat": 4,
 "nbformat_minor": 2
}
