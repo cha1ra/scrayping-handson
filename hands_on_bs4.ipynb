{
 "cells": [
  {
   "cell_type": "code",
   "execution_count": 5,
   "metadata": {},
   "outputs": [
    {
     "name": "stdout",
     "output_type": "stream",
     "text": [
      "Requirement already satisfied: request in /anaconda3/lib/python3.6/site-packages (2018.11.20)\n",
      "Requirement already satisfied: post in /anaconda3/lib/python3.6/site-packages (from request) (2018.11.20)\n",
      "Requirement already satisfied: get in /anaconda3/lib/python3.6/site-packages (from request) (2018.11.19)\n",
      "Requirement already satisfied: setuptools in /anaconda3/lib/python3.6/site-packages (from request) (39.1.0)\n",
      "Requirement already satisfied: query-string in /anaconda3/lib/python3.6/site-packages (from get->request) (2018.11.20)\n",
      "Requirement already satisfied: public in /anaconda3/lib/python3.6/site-packages (from query-string->get->request) (2018.11.20)\n",
      "Requirement already satisfied: beautifulsoup4 in /anaconda3/lib/python3.6/site-packages (4.6.0)\n"
     ]
    }
   ],
   "source": [
    "!pip install request\n",
    "!pip install beautifulsoup4"
   ]
  },
  {
   "cell_type": "code",
   "execution_count": 6,
   "metadata": {},
   "outputs": [],
   "source": [
    "import requests\n",
    "from bs4 import BeautifulSoup"
   ]
  },
  {
   "cell_type": "code",
   "execution_count": 7,
   "metadata": {},
   "outputs": [],
   "source": [
    "r = requests.get('https://cha1ra.github.io/scrayping-handson/index.html')"
   ]
  },
  {
   "cell_type": "code",
   "execution_count": 8,
   "metadata": {},
   "outputs": [
    {
     "data": {
      "text/plain": [
       "<Response [200]>"
      ]
     },
     "execution_count": 8,
     "metadata": {},
     "output_type": "execute_result"
    }
   ],
   "source": [
    "r\n",
    "# r.text\n",
    "# r.url\n",
    "# r.encoding\n",
    "# r.content\n",
    "# r.status_code"
   ]
  },
  {
   "cell_type": "code",
   "execution_count": 11,
   "metadata": {},
   "outputs": [
    {
     "data": {
      "text/plain": [
       "<!DOCTYPE html>\n",
       "\n",
       "<html lang=\"ja\">\n",
       "<head>\n",
       "<meta charset=\"utf-8\"/>\n",
       "<meta content=\"width=device-width, initial-scale=1.0\" name=\"viewport\"/>\n",
       "<meta content=\"ie=edge\" http-equiv=\"X-UA-Compatible\"/>\n",
       "<title>Example Page</title>\n",
       "</head>\n",
       "<body>\n",
       "<h1>Example Page</h1>\n",
       "<p>This is an example page for hands-on.</p>\n",
       "<h2>attr Test</h2>\n",
       "<ul>\n",
       "<li><a href=\"https://twitter.com/\">Twitter</a></li>\n",
       "<li><a href=\"https://www.facebook.com/\">Facebook</a></li>\n",
       "<li><a href=\"https://www.instagram.com/\">Instagram</a></li>\n",
       "</ul>\n",
       "<h2>ID Test</h2>\n",
       "<p id=\"id-test\">id=\"id-test\" selected</p>\n",
       "<h2>class Test</h2>\n",
       "<ul>\n",
       "<li class=\"class-test\">class=\"class-test\" selected 001</li>\n",
       "<li class=\"class-test\">class=\"class-test\" selected 002</li>\n",
       "<li class=\"class-test\">class=\"class-test\" selected 003</li>\n",
       "</ul>\n",
       "<footer>@don-bu-rakko All Rights Reserved.</footer>\n",
       "</body>\n",
       "</html>"
      ]
     },
     "execution_count": 11,
     "metadata": {},
     "output_type": "execute_result"
    }
   ],
   "source": [
    "soup = BeautifulSoup(r.text, 'html.parser')\n",
    "soup"
   ]
  },
  {
   "cell_type": "code",
   "execution_count": 19,
   "metadata": {},
   "outputs": [
    {
     "data": {
      "text/plain": [
       "[<a href=\"https://twitter.com/\">Twitter</a>,\n",
       " <a href=\"https://www.facebook.com/\">Facebook</a>,\n",
       " <a href=\"https://www.instagram.com/\">Instagram</a>]"
      ]
     },
     "execution_count": 19,
     "metadata": {},
     "output_type": "execute_result"
    }
   ],
   "source": [
    "# soup.select('h2')\n",
    "# soup.select_one('h2')\n",
    "# soup.select('a[href=\"https://twitter.com/\"] ')\n",
    "# soup.select('#id-test')\n",
    "soup.select('li > a')"
   ]
  },
  {
   "cell_type": "code",
   "execution_count": 20,
   "metadata": {},
   "outputs": [
    {
     "name": "stdout",
     "output_type": "stream",
     "text": [
      "Twitter\n",
      "Facebook\n",
      "Instagram\n"
     ]
    }
   ],
   "source": [
    "for a in soup.select('li > a'):\n",
    "    print(a.string)"
   ]
  },
  {
   "cell_type": "code",
   "execution_count": 22,
   "metadata": {},
   "outputs": [
    {
     "name": "stdout",
     "output_type": "stream",
     "text": [
      "{'href': 'https://twitter.com/'}\n",
      "https://twitter.com/\n",
      "{'href': 'https://www.facebook.com/'}\n",
      "https://www.facebook.com/\n",
      "{'href': 'https://www.instagram.com/'}\n",
      "https://www.instagram.com/\n"
     ]
    }
   ],
   "source": [
    "for a in soup.select('li > a'):\n",
    "    print(a.attrs)\n",
    "    print(a['href'])"
   ]
  },
  {
   "cell_type": "code",
   "execution_count": 42,
   "metadata": {},
   "outputs": [
    {
     "name": "stdout",
     "output_type": "stream",
     "text": [
      "ここをクリック\n",
      "/search?q=Gs+Academy&ie=UTF-8&gbv=1&sei=NC04XMX8LYmW8gW03K6wAg\n",
      "画像\n",
      "https://www.google.co.jp/search?hl=ja&tbm=isch&source=og&tab=wi\n",
      "マップ\n",
      "https://maps.google.co.jp/maps?hl=ja&tab=wl\n",
      "Play\n",
      "https://play.google.com/?hl=ja&tab=w8\n",
      "YouTube\n",
      "https://www.youtube.com/results?gl=JP&tab=w1\n",
      "ニュース\n",
      "https://news.google.co.jp/nwshp?hl=ja&tab=wn\n",
      "Gmail\n",
      "https://mail.google.com/mail/?tab=wm\n",
      "ドライブ\n",
      "https://drive.google.com/?tab=wo\n",
      "None\n",
      "https://www.google.co.jp/intl/ja/about/products?tab=wh\n",
      "ウェブ履歴\n",
      "http://www.google.co.jp/history/optout?hl=ja\n",
      "設定\n",
      "/preferences?hl=ja\n",
      "ログイン\n",
      "https://accounts.google.com/ServiceLogin?hl=ja&passive=true&continue=https://www.google.co.jp/search%3Fq%3DGs%2BAcademy\n",
      "None\n",
      "/webhp?hl=ja\n",
      "画像\n",
      "/search?q=Gs+Academy&ie=UTF-8&prmd=ivns&source=lnms&tbm=isch&sa=X&ved=0ahUKEwjF5qj-guXfAhUJi7wKHTSuCyYQ_AUIBQ\n",
      "動画\n",
      "/search?q=Gs+Academy&ie=UTF-8&prmd=ivns&source=lnms&tbm=vid&sa=X&ved=0ahUKEwjF5qj-guXfAhUJi7wKHTSuCyYQ_AUIBg\n",
      "ニュース\n",
      "/search?q=Gs+Academy&ie=UTF-8&prmd=ivns&source=lnms&tbm=nws&sa=X&ved=0ahUKEwjF5qj-guXfAhUJi7wKHTSuCyYQ_AUIBw\n",
      "ショッピング\n",
      "/search?q=Gs+Academy&ie=UTF-8&prmd=ivns&source=lnms&tbm=shop&sa=X&ved=0ahUKEwjF5qj-guXfAhUJi7wKHTSuCyYQ_AUICA\n",
      "地図\n",
      "https://maps.google.co.jp/maps?q=Gs+Academy&um=1&ie=UTF-8&sa=X&ved=0ahUKEwjF5qj-guXfAhUJi7wKHTSuCyYQ_AUICQ\n",
      "書籍\n",
      "/search?q=Gs+Academy&ie=UTF-8&prmd=ivns&source=lnms&tbm=bks&sa=X&ved=0ahUKEwjF5qj-guXfAhUJi7wKHTSuCyYQ_AUICg\n",
      "日本語のページを検索\n",
      "/search?q=Gs+Academy&ie=UTF-8&prmd=ivns&source=lnt&tbs=lr:lang_1ja&lr=lang_ja&sa=X&ved=0ahUKEwjF5qj-guXfAhUJi7wKHTSuCyYQpwUIDw\n",
      " 1 時間以内\n",
      "/search?q=Gs+Academy&ie=UTF-8&prmd=ivns&source=lnt&tbs=qdr:h&sa=X&ved=0ahUKEwjF5qj-guXfAhUJi7wKHTSuCyYQpwUIDw\n",
      " 24 時間以内\n",
      "/search?q=Gs+Academy&ie=UTF-8&prmd=ivns&source=lnt&tbs=qdr:d&sa=X&ved=0ahUKEwjF5qj-guXfAhUJi7wKHTSuCyYQpwUIDw\n",
      " 1 週間以内\n",
      "/search?q=Gs+Academy&ie=UTF-8&prmd=ivns&source=lnt&tbs=qdr:w&sa=X&ved=0ahUKEwjF5qj-guXfAhUJi7wKHTSuCyYQpwUIDw\n",
      " 1 か月以内\n",
      "/search?q=Gs+Academy&ie=UTF-8&prmd=ivns&source=lnt&tbs=qdr:m&sa=X&ved=0ahUKEwjF5qj-guXfAhUJi7wKHTSuCyYQpwUIDw\n",
      " 1 年以内\n",
      "/search?q=Gs+Academy&ie=UTF-8&prmd=ivns&source=lnt&tbs=qdr:y&sa=X&ved=0ahUKEwjF5qj-guXfAhUJi7wKHTSuCyYQpwUIDw\n",
      "完全一致\n",
      "/search?q=Gs+Academy&ie=UTF-8&prmd=ivns&source=lnt&tbs=li:1&sa=X&ved=0ahUKEwjF5qj-guXfAhUJi7wKHTSuCyYQpwUIDw\n",
      "None\n",
      "/url?q=https://gsacademy.tokyo/&sa=U&ved=0ahUKEwjF5qj-guXfAhUJi7wKHTSuCyYQFggVMAA&usg=AOvVaw1TvGg-YUiEGfLU7Fmhox7R\n",
      "キャッシュ\n",
      "/url?q=http://webcache.googleusercontent.com/search%3Fq%3Dcache:rM-Vs4SzbrAJ:https://gsacademy.tokyo/%252BGs%2BAcademy%26hl%3Dja%26ct%3Dclnk&sa=U&ved=0ahUKEwjF5qj-guXfAhUJi7wKHTSuCyYQIAgYMAA&usg=AOvVaw0SsU1cqY3rmVw1JZmbomzj\n",
      "東京LABコース｜フルタイム総合 ...\n",
      "/url?q=https://gsacademy.tokyo/labcourse/&sa=U&ved=0ahUKEwjF5qj-guXfAhUJi7wKHTSuCyYQjBAIGzAB&usg=AOvVaw01HUGw97gTKtsju8M_ulPt\n",
      "G's Academy Youth Camp\n",
      "/url?q=https://gsacademy.tokyo/youthcamp/&sa=U&ved=0ahUKEwjF5qj-guXfAhUJi7wKHTSuCyYQjBAIHTAE&usg=AOvVaw1mcr0FoWB_4GxUBIeUUC86\n",
      "東京DEVコース｜週末集中 ...\n",
      "/url?q=https://gsacademy.tokyo/devcourse/&sa=U&ved=0ahUKEwjF5qj-guXfAhUJi7wKHTSuCyYQjBAIHzAC&usg=AOvVaw2n-fQqQ9sctoKKp8ipAHoC\n",
      "G's ACADEMYとは｜ジーズ ...\n",
      "/url?q=https://gsacademy.tokyo/about/&sa=U&ved=0ahUKEwjF5qj-guXfAhUJi7wKHTSuCyYQjBAIITAF&usg=AOvVaw20R2Y0BHVzXLwEB1bCUDEE\n",
      "G's Academy Tokyo Base\n",
      "/url?q=https://gsacademy.tokyo/tokyobase/&sa=U&ved=0ahUKEwjF5qj-guXfAhUJi7wKHTSuCyYQjBAIIzAD&usg=AOvVaw0Q66kWUgUmuS-0Dc2-1dLE\n",
      "コース紹介\n",
      "/url?q=https://gsacademy.tokyo/course/&sa=U&ved=0ahUKEwjF5qj-guXfAhUJi7wKHTSuCyYQjBAIJTAG&usg=AOvVaw2IW67HJsmurmTT7lStUxJN\n",
      "gsacademy.tokyo からの検索結果 »\n",
      "/search?ie=UTF-8&q=+site:gsacademy.tokyo+Gs+Academy&sa=X&ved=0ahUKEwjF5qj-guXfAhUJi7wKHTSuCyYQrAMIJg\n",
      "None\n",
      "/url?q=https://twitter.com/gsacademy_tokyo&sa=U&ved=0ahUKEwjF5qj-guXfAhUJi7wKHTSuCyYQFggoMAc&usg=AOvVaw2F-S7mHrBFFKWlogAONhFA\n",
      "キャッシュ\n",
      "/url?q=http://webcache.googleusercontent.com/search%3Fq%3Dcache:lHFpyXystboJ:https://twitter.com/gsacademy_tokyo%252BGs%2BAcademy%26hl%3Dja%26ct%3Dclnk&sa=U&ved=0ahUKEwjF5qj-guXfAhUJi7wKHTSuCyYQIAgrMAc&usg=AOvVaw1jZfMtS2N0seD5Kp2E9ofW\n",
      "類似ページ\n",
      "/search?ie=UTF-8&q=related:https://twitter.com/gsacademy_tokyo+Gs+Academy&tbo=1&sa=X&ved=0ahUKEwjF5qj-guXfAhUJi7wKHTSuCyYQHwgsMAc\n",
      "None\n",
      "/url?q=https://ja-jp.facebook.com/gsacademy.tokyo/&sa=U&ved=0ahUKEwjF5qj-guXfAhUJi7wKHTSuCyYQFgguMAg&usg=AOvVaw2G8S2kOkODlp01qzdpyOU-\n",
      "None\n",
      "/url?q=https://free-engineer.site/gs-academy/&sa=U&ved=0ahUKEwjF5qj-guXfAhUJi7wKHTSuCyYQFggwMAk&usg=AOvVaw1uqSHSVvNxCz8dJoNGHyFs\n",
      "キャッシュ\n",
      "/url?q=http://webcache.googleusercontent.com/search%3Fq%3Dcache:9IqRJ5IVkl8J:https://free-engineer.site/gs-academy/%252BGs%2BAcademy%26hl%3Dja%26ct%3Dclnk&sa=U&ved=0ahUKEwjF5qj-guXfAhUJi7wKHTSuCyYQIAgzMAk&usg=AOvVaw1w9f3jwidiHE456VHo21ny\n",
      "None\n",
      "/url?q=https://prtimes.jp/main/html/rd/p/000001530.000000496.html&sa=U&ved=0ahUKEwjF5qj-guXfAhUJi7wKHTSuCyYQFgg2MAo&usg=AOvVaw0wNf2xu49f73-JALsIEJYa\n",
      "キャッシュ\n",
      "/url?q=http://webcache.googleusercontent.com/search%3Fq%3Dcache:a1ITbBvyj54J:https://prtimes.jp/main/html/rd/p/000001530.000000496.html%252BGs%2BAcademy%26hl%3Dja%26ct%3Dclnk&sa=U&ved=0ahUKEwjF5qj-guXfAhUJi7wKHTSuCyYQIAg5MAo&usg=AOvVaw10ppo9VZAoBBDSVpQtDJRv\n",
      "None\n",
      "/url?q=https://prtimes.jp/main/html/rd/p/000001440.000000496.html&sa=U&ved=0ahUKEwjF5qj-guXfAhUJi7wKHTSuCyYQFgg8MAs&usg=AOvVaw0qqqWFg9cpBzfG0mG8c71B\n",
      "キャッシュ\n",
      "/url?q=http://webcache.googleusercontent.com/search%3Fq%3Dcache:ZPl0kihvjcoJ:https://prtimes.jp/main/html/rd/p/000001440.000000496.html%252BGs%2BAcademy%26hl%3Dja%26ct%3Dclnk&sa=U&ved=0ahUKEwjF5qj-guXfAhUJi7wKHTSuCyYQIAg_MAs&usg=AOvVaw30vKG-3PyM_WX33eqBDpi1\n",
      "None\n",
      "/url?q=https://news.mynavi.jp/article/20150414-gsacademy/&sa=U&ved=0ahUKEwjF5qj-guXfAhUJi7wKHTSuCyYQFghCMAw&usg=AOvVaw0sbuLRn-XxgrRZ9PAs0iZT\n",
      "キャッシュ\n",
      "/url?q=http://webcache.googleusercontent.com/search%3Fq%3Dcache:KbgzdEjRUyYJ:https://news.mynavi.jp/article/20150414-gsacademy/%252BGs%2BAcademy%26hl%3Dja%26ct%3Dclnk&sa=U&ved=0ahUKEwjF5qj-guXfAhUJi7wKHTSuCyYQIAhFMAw&usg=AOvVaw2nhpJDVNCM3pBeTEqVIn9C\n",
      "g's academy 福岡\n",
      "/search?ie=UTF-8&q=g%27s+academy+%E7%A6%8F%E5%B2%A1&sa=X&ved=0ahUKEwjF5qj-guXfAhUJi7wKHTSuCyYQ1QIISSgA\n",
      "g's academy python\n",
      "/search?ie=UTF-8&q=g%27s+academy+python&sa=X&ved=0ahUKEwjF5qj-guXfAhUJi7wKHTSuCyYQ1QIISigB\n",
      "g's academy fukuoka\n",
      "/search?ie=UTF-8&q=g%27s+academy+fukuoka&sa=X&ved=0ahUKEwjF5qj-guXfAhUJi7wKHTSuCyYQ1QIISygC\n",
      "ジーズアカデミー 児玉\n",
      "/search?ie=UTF-8&q=%E3%82%B8%E3%83%BC%E3%82%BA%E3%82%A2%E3%82%AB%E3%83%87%E3%83%9F%E3%83%BC+%E5%85%90%E7%8E%89&sa=X&ved=0ahUKEwjF5qj-guXfAhUJi7wKHTSuCyYQ1QIITCgD\n",
      "ジーズアカデミー 試験\n",
      "/search?ie=UTF-8&q=%E3%82%B8%E3%83%BC%E3%82%BA%E3%82%A2%E3%82%AB%E3%83%87%E3%83%9F%E3%83%BC+%E8%A9%A6%E9%A8%93&sa=X&ved=0ahUKEwjF5qj-guXfAhUJi7wKHTSuCyYQ1QIITSgE\n",
      "ジーズアカデミー メンター\n",
      "/search?ie=UTF-8&q=%E3%82%B8%E3%83%BC%E3%82%BA%E3%82%A2%E3%82%AB%E3%83%87%E3%83%9F%E3%83%BC+%E3%83%A1%E3%83%B3%E3%82%BF%E3%83%BC&sa=X&ved=0ahUKEwjF5qj-guXfAhUJi7wKHTSuCyYQ1QIITigF\n",
      "ジーズアカデミー 転職\n",
      "/search?ie=UTF-8&q=%E3%82%B8%E3%83%BC%E3%82%BA%E3%82%A2%E3%82%AB%E3%83%87%E3%83%9F%E3%83%BC+%E8%BB%A2%E8%81%B7&sa=X&ved=0ahUKEwjF5qj-guXfAhUJi7wKHTSuCyYQ1QIITygG\n",
      "ジーズアカデミー lab\n",
      "/search?ie=UTF-8&q=%E3%82%B8%E3%83%BC%E3%82%BA%E3%82%A2%E3%82%AB%E3%83%87%E3%83%9F%E3%83%BC+lab&sa=X&ved=0ahUKEwjF5qj-guXfAhUJi7wKHTSuCyYQ1QIIUCgH\n",
      "g's academy youth camp\n",
      "/search?ie=UTF-8&q=g%27s+academy+youth+camp&sa=X&ved=0ahUKEwjF5qj-guXfAhUJi7wKHTSuCyYQ1QIIUSgI\n",
      "g's premiere\n",
      "/search?ie=UTF-8&q=g%27s+premiere&sa=X&ved=0ahUKEwjF5qj-guXfAhUJi7wKHTSuCyYQ1QIIUigJ\n",
      "None\n",
      "/search?q=Gs+Academy&ie=UTF-8&prmd=ivns&ei=NC04XMX8LYmW8gW03K6wAg&start=10&sa=N\n",
      "None\n",
      "/search?q=Gs+Academy&ie=UTF-8&prmd=ivns&ei=NC04XMX8LYmW8gW03K6wAg&start=20&sa=N\n",
      "None\n",
      "/search?q=Gs+Academy&ie=UTF-8&prmd=ivns&ei=NC04XMX8LYmW8gW03K6wAg&start=30&sa=N\n",
      "None\n",
      "/search?q=Gs+Academy&ie=UTF-8&prmd=ivns&ei=NC04XMX8LYmW8gW03K6wAg&start=40&sa=N\n",
      "None\n",
      "/search?q=Gs+Academy&ie=UTF-8&prmd=ivns&ei=NC04XMX8LYmW8gW03K6wAg&start=50&sa=N\n",
      "None\n",
      "/search?q=Gs+Academy&ie=UTF-8&prmd=ivns&ei=NC04XMX8LYmW8gW03K6wAg&start=60&sa=N\n",
      "None\n",
      "/search?q=Gs+Academy&ie=UTF-8&prmd=ivns&ei=NC04XMX8LYmW8gW03K6wAg&start=70&sa=N\n",
      "None\n",
      "/search?q=Gs+Academy&ie=UTF-8&prmd=ivns&ei=NC04XMX8LYmW8gW03K6wAg&start=80&sa=N\n",
      "None\n",
      "/search?q=Gs+Academy&ie=UTF-8&prmd=ivns&ei=NC04XMX8LYmW8gW03K6wAg&start=90&sa=N\n",
      "None\n",
      "/search?q=Gs+Academy&ie=UTF-8&prmd=ivns&ei=NC04XMX8LYmW8gW03K6wAg&start=10&sa=N\n",
      "検索オプション\n",
      "/advanced_search?q=Gs+Academy&ie=UTF-8&prmd=ivns\n",
      "ヘルプを検索\n",
      "/support/websearch/bin/answer.py?answer=134479&hl=ja\n",
      "フィードバックを送信\n",
      "/tools/feedback/survey/html?productId=196&query=Gs+Academy&hl=ja\n",
      "Google ホーム\n",
      "/\n",
      "広告掲載\n",
      "/intl/ja/ads\n",
      "プライバシー\n",
      "/intl/ja/policies/privacy/\n",
      "規約\n",
      "/intl/ja/policies/terms/\n",
      "Googleについて\n",
      "/intl/ja/about.html\n",
      "None\n",
      "https://maps.google.co.jp/maps?um=1&ie=UTF-8&fb=1&gl=jp&sa=X&ll=35.6672762,139.7137502&z=15&ftid=0x0:0x35396adb5ba7ce03&q=G's+ACADEMY+TOKYO&ved=0ahUKEwjF5qj-guXfAhUJi7wKHTSuCyYQ_BIIWzAN\n",
      "経路案内\n",
      "https://maps.google.co.jp/maps?um=1&ie=UTF-8&fb=1&gl=jp&sa=X&geocode=KYHo4qmfjBhgMQPOp1vbajk1&daddr=%E9%9D%92+%E6%9C%8B+%E3%83%93%E3%83%AB+2F,+%EF%BC%93%E4%B8%81%E7%9B%AE-%EF%BC%95-%EF%BC%96+%E5%8C%97%E9%9D%92%E5%B1%B1+%E6%B8%AF%E5%8C%BA+%E6%9D%B1%E4%BA%AC%E9%83%BD+107-0061&ved=0ahUKEwjF5qj-guXfAhUJi7wKHTSuCyYQiBMIYigAMBA\n",
      "ウェブ サイト\n",
      "/url?q=http://gsacademy.tokyo/&sa=U&ved=0ahUKEwjF5qj-guXfAhUJi7wKHTSuCyYQ_BcIYygBMBA&usg=AOvVaw3cQUwCA4g3M0im_rRSSMYh\n",
      "None\n",
      "#\n",
      "TECH::CAMP 渋谷校\n",
      "#\n",
      "None\n",
      "#\n",
      "DIVE INTO CODE\n",
      "#\n",
      "None\n",
      "#\n",
      "デジタルハリウッド渋谷校\n",
      "#\n",
      "None\n",
      "#\n",
      "システムアーキテクチュア...\n",
      "#\n",
      "None\n",
      "#\n",
      "TechAcademy [テックアカデミー]\n",
      "#\n",
      "None\n",
      "#\n",
      "E&Gアカデミー青山校\n",
      "#\n"
     ]
    }
   ],
   "source": [
    "payload = {'q': 'Gs Academy'}\n",
    "r2 = requests.get('https://www.google.co.jp/search', params=payload)\n",
    "r2.text\n",
    "res = BeautifulSoup(r2.text,'html.parser')\n",
    "for a in res.select('a'):\n",
    "    print(a.string)\n",
    "    print(a['href'])"
   ]
  },
  {
   "cell_type": "code",
   "execution_count": null,
   "metadata": {},
   "outputs": [],
   "source": []
  }
 ],
 "metadata": {
  "kernelspec": {
   "display_name": "Python 3",
   "language": "python",
   "name": "python3"
  },
  "language_info": {
   "codemirror_mode": {
    "name": "ipython",
    "version": 3
   },
   "file_extension": ".py",
   "mimetype": "text/x-python",
   "name": "python",
   "nbconvert_exporter": "python",
   "pygments_lexer": "ipython3",
   "version": "3.6.5"
  }
 },
 "nbformat": 4,
 "nbformat_minor": 2
}
