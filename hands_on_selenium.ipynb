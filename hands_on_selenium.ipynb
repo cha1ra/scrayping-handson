{
 "cells": [
  {
   "cell_type": "code",
   "execution_count": 1,
   "metadata": {},
   "outputs": [
    {
     "name": "stdout",
     "output_type": "stream",
     "text": [
      "Requirement already satisfied: selenium in /anaconda3/lib/python3.6/site-packages (3.141.0)\r\n",
      "Requirement already satisfied: urllib3 in /anaconda3/lib/python3.6/site-packages (from selenium) (1.22)\r\n"
     ]
    }
   ],
   "source": [
    "!pip install selenium"
   ]
  },
  {
   "cell_type": "code",
   "execution_count": 2,
   "metadata": {},
   "outputs": [],
   "source": [
    "from selenium import webdriver"
   ]
  },
  {
   "cell_type": "code",
   "execution_count": 21,
   "metadata": {},
   "outputs": [],
   "source": [
    "browser = webdriver.Chrome()\n",
    "# browser = webdriver.Chrome('chromedriver.exe')\n",
    "\n",
    "browser.get('https://cha1ra.github.io/scrayping-handson/index.html')\n",
    "el = browser.find_element_by_css_selector('#id_text')\n",
    "el.clear()\n",
    "el.send_keys(\"Aira Sakajiri\")\n",
    "button = browser.find_element_by_css_selector('button')\n",
    "# button.submit()\n",
    "button.click()"
   ]
  },
  {
   "cell_type": "code",
   "execution_count": 23,
   "metadata": {},
   "outputs": [
    {
     "data": {
      "text/plain": [
       "'Hello, Aira Sakajiri'"
      ]
     },
     "execution_count": 23,
     "metadata": {},
     "output_type": "execute_result"
    }
   ],
   "source": [
    "browser.find_element_by_css_selector('#result').text"
   ]
  },
  {
   "cell_type": "code",
   "execution_count": 24,
   "metadata": {},
   "outputs": [],
   "source": [
    "browser.quit()"
   ]
  },
  {
   "cell_type": "code",
   "execution_count": 26,
   "metadata": {},
   "outputs": [
    {
     "name": "stderr",
     "output_type": "stream",
     "text": [
      "/anaconda3/lib/python3.6/site-packages/ipykernel_launcher.py:5: DeprecationWarning: use options instead of chrome_options\n",
      "  \"\"\"\n"
     ]
    },
    {
     "name": "stdout",
     "output_type": "stream",
     "text": [
      "Hello, Aira Sakajiri\n"
     ]
    }
   ],
   "source": [
    "from selenium.webdriver.chrome.options import Options\n",
    "\n",
    "options = Options()\n",
    "options.add_argument('--headless')\n",
    "browser = webdriver.Chrome(chrome_options=options)\n",
    "\n",
    "browser.get('https://cha1ra.github.io/scrayping-handson/index.html')\n",
    "el = browser.find_element_by_css_selector('#id_text')\n",
    "el.clear()\n",
    "el.send_keys(\"Aira Sakajiri\")\n",
    "button = browser.find_element_by_css_selector('button')\n",
    "button.click()\n",
    "print(browser.find_element_by_css_selector('#result').text)\n",
    "browser.quit()"
   ]
  },
  {
   "cell_type": "code",
   "execution_count": null,
   "metadata": {},
   "outputs": [],
   "source": []
  }
 ],
 "metadata": {
  "kernelspec": {
   "display_name": "Python 3",
   "language": "python",
   "name": "python3"
  },
  "language_info": {
   "codemirror_mode": {
    "name": "ipython",
    "version": 3
   },
   "file_extension": ".py",
   "mimetype": "text/x-python",
   "name": "python",
   "nbconvert_exporter": "python",
   "pygments_lexer": "ipython3",
   "version": "3.6.5"
  }
 },
 "nbformat": 4,
 "nbformat_minor": 2
}
